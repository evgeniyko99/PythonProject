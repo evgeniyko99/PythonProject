{
 "cells": [
  {
   "cell_type": "code",
   "execution_count": null,
   "metadata": {},
   "outputs": [],
   "source": []
  },
  {
   "cell_type": "code",
   "execution_count": 1,
   "metadata": {},
   "outputs": [],
   "source": [
    "#GUI\n",
    "import tkinter as tk\n",
    "parent = tk.Tk()\n",
    "parent.geometry(\"400x250\")\n",
    "LoanID = tk.Label(parent, text = \"Loan ID\").place(x = 30, y = 50)\n",
    "sbmitbtn = tk.Button(parent, text = \"Submit\", activebackground = \"green\", activeforeground = \"blue\").place(x = 120, y = 170)\n",
    "entry1 = tk.Entry(parent).place(x = 85, y = 50)\n",
    "parent.mainloop()"
   ]
  },
  {
   "cell_type": "code",
   "execution_count": null,
   "metadata": {},
   "outputs": [],
   "source": []
  }
 ],
 "metadata": {
  "kernelspec": {
   "display_name": "Python 3",
   "language": "python",
   "name": "python3"
  },
  "language_info": {
   "codemirror_mode": {
    "name": "ipython",
    "version": 3
   },
   "file_extension": ".py",
   "mimetype": "text/x-python",
   "name": "python",
   "nbconvert_exporter": "python",
   "pygments_lexer": "ipython3",
   "version": "3.7.4"
  }
 },
 "nbformat": 4,
 "nbformat_minor": 4
}
